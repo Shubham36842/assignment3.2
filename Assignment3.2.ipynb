{
 "cells": [
  {
   "cell_type": "raw",
   "id": "4f194a63-ea15-4a24-bc6d-280756ed6868",
   "metadata": {},
   "source": [
    "Q1. Create a python program to sort the given list of tuples based on integer value using a\n",
    "lambda function. \n",
    "[('Sachin Tendulkar', 34357), ('Ricky Ponting', 27483), ('Jack Kallis', 25534), ('Virat Kohli', 24936)]"
   ]
  },
  {
   "cell_type": "code",
   "execution_count": 5,
   "id": "ba382ae6-f61d-4579-86f9-efcb96fa18ec",
   "metadata": {},
   "outputs": [
    {
     "name": "stdout",
     "output_type": "stream",
     "text": [
      "[('Virat Kohli', 24936), ('Jack Kallis', 25534), ('Ricky Ponting', 27483), ('Sachin Tendulkar', 34357)]\n"
     ]
    }
   ],
   "source": [
    "Lst=[('Sachin Tendulkar', 34357), ('Ricky Ponting', 27483), ('Jack Kallis', 25534), ('Virat Kohli', 24936)]\n",
    "Lst.sort(key=lambda x:x[1])\n",
    "print(Lst)"
   ]
  },
  {
   "cell_type": "raw",
   "id": "980e2200-61bc-4251-b164-88650a3bcf11",
   "metadata": {},
   "source": [
    "Q2. Write a Python Program to find the squares of all the numbers in the given list of integers using lambda and map functions.\n",
    "[1, 2, 3, 4, 5, 6, 7, 8, 9, 10]"
   ]
  },
  {
   "cell_type": "code",
   "execution_count": 2,
   "id": "63610539-b366-4cf7-806d-fd12adfb9796",
   "metadata": {},
   "outputs": [
    {
     "name": "stdout",
     "output_type": "stream",
     "text": [
      "[1, 4, 9, 16, 25, 36, 49, 64, 81, 100]\n"
     ]
    }
   ],
   "source": [
    "Lst=[1,2,3,4,5,6,7,8,9,10]\n",
    "y=map(lambda x:x*x,Lst)\n",
    "print(list(y))"
   ]
  },
  {
   "cell_type": "raw",
   "id": "af6d5cf5-84cd-4645-b761-18570451b348",
   "metadata": {},
   "source": [
    "Q3. Write a python program to convert the given list of integers into a tuple of strings. Use map and lambda functions\n",
    "Given String: [1, 2, 3, 4, 5, 6, 7, 8, 9, 10]\n",
    "Expected output: ('1', '2', '3', '4', '5', '6', '7', '8', '9', '10')"
   ]
  },
  {
   "cell_type": "code",
   "execution_count": 3,
   "id": "103edbd7-0281-44a0-8fbe-9c42ed5f2a60",
   "metadata": {},
   "outputs": [
    {
     "name": "stdout",
     "output_type": "stream",
     "text": [
      "('1', '2', '3', '4', '5', '6', '7', '8', '9', '10')\n"
     ]
    }
   ],
   "source": [
    "strg=[1,2,3,4,5,6,7,8,9,10]\n",
    "z=map(lambda x:str(x),strg)\n",
    "print(tuple(z))"
   ]
  },
  {
   "cell_type": "raw",
   "id": "fa117723-2c8f-44c6-ae6b-1c4acfef5f0a",
   "metadata": {},
   "source": [
    "Q4. Write a python program using reduce function to compute the product of a list containing numbers from 1 to 25."
   ]
  },
  {
   "cell_type": "code",
   "execution_count": 1,
   "id": "f1196955-9d24-43c1-bac0-3eb9bb456069",
   "metadata": {},
   "outputs": [
    {
     "name": "stdout",
     "output_type": "stream",
     "text": [
      "15511210043330985984000000\n"
     ]
    }
   ],
   "source": [
    "import functools\n",
    "lst=[x for x in range(1,26)]\n",
    "z=functools.reduce((lambda y,k:y*k),lst)\n",
    "print(z)"
   ]
  },
  {
   "cell_type": "raw",
   "id": "d6322bc2-9d81-4b1f-bfa9-074f758f10bc",
   "metadata": {},
   "source": [
    "Q5. Write a python program to filter the numbers in a given list that are divisible by 2 and 3 using the filter function.\n",
    "[2, 3, 6, 9, 27, 60, 90, 120, 55, 46]"
   ]
  },
  {
   "cell_type": "code",
   "execution_count": 8,
   "id": "c34edd5c-a492-46e3-b1ad-0812e028c399",
   "metadata": {},
   "outputs": [
    {
     "name": "stdout",
     "output_type": "stream",
     "text": [
      "[6, 60, 90, 120]\n"
     ]
    }
   ],
   "source": [
    "lst=[2,3,6,9,27,60,90,120,55,46]\n",
    "def div(x):\n",
    "    if(x%2==0 and x%3==0):\n",
    "        return x\n",
    "z=filter(div,lst)\n",
    "print(list(z))"
   ]
  },
  {
   "cell_type": "raw",
   "id": "e9a4c7c4-0f7d-4274-bb6b-6806854c101d",
   "metadata": {},
   "source": [
    "Q6. Write a python program to find palindromes in the given list of strings using lambda and filter function.\n",
    "['python', 'php', 'aba', 'radar', 'level']"
   ]
  },
  {
   "cell_type": "code",
   "execution_count": 24,
   "id": "d57b9019-3c19-4791-aaa6-e1788ca5c62b",
   "metadata": {},
   "outputs": [
    {
     "name": "stdout",
     "output_type": "stream",
     "text": [
      "['php', 'aba', 'radar', 'level']\n"
     ]
    }
   ],
   "source": [
    "stng=['python','php','aba','radar','level']\n",
    "result = list(filter(lambda x:(x==\"\".join(reversed(x))),stng))\n",
    "print(result)"
   ]
  }
 ],
 "metadata": {
  "kernelspec": {
   "display_name": "Python 3 (ipykernel)",
   "language": "python",
   "name": "python3"
  },
  "language_info": {
   "codemirror_mode": {
    "name": "ipython",
    "version": 3
   },
   "file_extension": ".py",
   "mimetype": "text/x-python",
   "name": "python",
   "nbconvert_exporter": "python",
   "pygments_lexer": "ipython3",
   "version": "3.10.8"
  }
 },
 "nbformat": 4,
 "nbformat_minor": 5
}
